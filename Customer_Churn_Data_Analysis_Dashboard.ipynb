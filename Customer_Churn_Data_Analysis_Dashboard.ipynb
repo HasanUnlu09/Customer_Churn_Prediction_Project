{
 "cells": [
  {
   "cell_type": "code",
   "execution_count": null,
   "id": "74c76251",
   "metadata": {},
   "outputs": [],
   "source": [
    "# avoiding package version difference inconsistency for the dashboard\n",
    "import werkzeug\n",
    "from werkzeug.debug.tbtools import DebugTraceback\n",
    "werkzeug.debug.tbtools.get_current_traceback = DebugTraceback"
   ]
  },
  {
   "cell_type": "code",
   "execution_count": null,
   "id": "ae0ac2cf",
   "metadata": {
    "scrolled": false
   },
   "outputs": [],
   "source": [
    "import dash\n",
    "import dash_core_components as dcc\n",
    "import dash_html_components as html\n",
    "from dash.dependencies import Input, Output\n",
    "import pandas as pd\n",
    "import plotly.express as px\n",
    "import plotly.graph_objects as go"
   ]
  },
  {
   "cell_type": "code",
   "execution_count": null,
   "id": "5a4022c7",
   "metadata": {},
   "outputs": [],
   "source": [
    "train_data_path = r\"C:\\Users\\hasan\\OneDrive\\Masaüstü\\Data_Science\\Data_Science_Projects\\Customer_Churn_Dataset\\data\\customer_churn_dataset-training-master.csv\"\n",
    "train_data = pd.read_csv(train_data_path)"
   ]
  },
  {
   "cell_type": "code",
   "execution_count": null,
   "id": "cf00eda2",
   "metadata": {},
   "outputs": [],
   "source": [
    "test_data_path = r\"C:\\Users\\hasan\\OneDrive\\Masaüstü\\Data_Science\\Data_Science_Projects\\Customer_Churn_Dataset\\data\\customer_churn_dataset-testing-master.csv\"\n",
    "test_data = pd.read_csv(test_data_path)"
   ]
  },
  {
   "cell_type": "code",
   "execution_count": null,
   "id": "fd52e98f",
   "metadata": {},
   "outputs": [],
   "source": [
    "data = train_data.append(test_data)"
   ]
  },
  {
   "cell_type": "code",
   "execution_count": null,
   "id": "019b1617",
   "metadata": {},
   "outputs": [],
   "source": [
    "data[data.loc[:,'CustomerID'].isna() == True]"
   ]
  },
  {
   "cell_type": "code",
   "execution_count": null,
   "id": "02b1cdd5",
   "metadata": {},
   "outputs": [],
   "source": [
    "data.drop(index=199295, axis=1, inplace=True)"
   ]
  },
  {
   "cell_type": "code",
   "execution_count": null,
   "id": "88b117db",
   "metadata": {},
   "outputs": [],
   "source": [
    "data.reset_index(inplace=True)"
   ]
  },
  {
   "cell_type": "code",
   "execution_count": null,
   "id": "a551fdeb",
   "metadata": {},
   "outputs": [],
   "source": [
    "data.drop(columns='index',inplace=True)"
   ]
  },
  {
   "cell_type": "code",
   "execution_count": null,
   "id": "028a41b5",
   "metadata": {},
   "outputs": [],
   "source": [
    "data.drop(columns='CustomerID', axis=1, inplace=True)"
   ]
  },
  {
   "cell_type": "code",
   "execution_count": null,
   "id": "a0d04096",
   "metadata": {
    "scrolled": true
   },
   "outputs": [],
   "source": [
    "for i in data.columns:\n",
    "    if data.loc[:,i].dtypes == 'float64':\n",
    "        data.loc[:,i] = data.loc[:,i].astype('int')"
   ]
  },
  {
   "cell_type": "code",
   "execution_count": null,
   "id": "3b3fa18c",
   "metadata": {},
   "outputs": [],
   "source": []
  },
  {
   "cell_type": "code",
   "execution_count": null,
   "id": "894f32ec",
   "metadata": {},
   "outputs": [],
   "source": [
    "# initialize app\n",
    "app = dash.Dash(__name__)"
   ]
  },
  {
   "cell_type": "code",
   "execution_count": null,
   "id": "32fe7424",
   "metadata": {},
   "outputs": [],
   "source": [
    "# dropdown menu container dictionaries in the list\n",
    "dropdown_menu_list = []\n",
    "j = 0\n",
    "\n",
    "for i in data.columns:\n",
    "    dropdown_menu_list.append({'label':i, 'value':i})\n",
    "    j+=1"
   ]
  },
  {
   "cell_type": "code",
   "execution_count": null,
   "id": "ab8c70c3",
   "metadata": {
    "scrolled": true
   },
   "outputs": [],
   "source": [
    "# setting app layout\n",
    "app.layout = html.Div(children=[\n",
    "    \n",
    "    # title division\n",
    "    html.Div(html.H1('Customer Churn Dashboard', \n",
    "                     style={'textAlign':'center', \n",
    "                            'font-family': 'bahnschrift',\n",
    "                            'color':'#839192'}),\n",
    "             style={'padding':'1%'}\n",
    "            ),\n",
    "    \n",
    "    \n",
    "    \n",
    "    # dropdown division\n",
    "    html.Div([html.P('Please select an attribute in the dataset in order to analyze with respect to histogram plot ...', \n",
    "                     style={'textAlign':'middle',\n",
    "                           'color':'#839192'}),\n",
    "        \n",
    "            dcc.Dropdown(id='attribute-dropdown',\n",
    "                          options=dropdown_menu_list,\n",
    "                          value='Churn',\n",
    "                          placeholder = 'Please select an attribute in the dataset in order to analyze with respect to histogram plot ...')],\n",
    "            \n",
    "             style={'backgroundColor':'#F2F2F2', \n",
    "                   'border-radius': '9px',\n",
    "                   'marginTop':'0.5%',\n",
    "                   'marginBottom':'2%',\n",
    "                   'marginLeft':'10%',\n",
    "                   'marginRight':'10%'}),\n",
    "    \n",
    "    \n",
    "    \n",
    "    \n",
    "    # plots' division\n",
    "    html.Div(children = [\n",
    "        \n",
    "        # plot_1 division\n",
    "        html.Div(dcc.Graph(id='plot-1'), \n",
    "                 style={'backgroundColor':'#FFFFFF', \n",
    "                        'display': 'inline-block',\n",
    "                        'border-radius': '9px',\n",
    "                        'marginRight':'1%',\n",
    "                        'marginBottom':'2%',\n",
    "                        'padding':'2%'}),\n",
    "        \n",
    "        # plot_2 division\n",
    "        html.Div(dcc.Graph(id='plot-2'),\n",
    "                 style={'backgroundColor':'#FFFFFF', \n",
    "                        'display': 'inline-block',\n",
    "                        'border-radius': '9px',\n",
    "                        'marginLeft':'1%',\n",
    "                        'marginBottom':'2%',\n",
    "                        'padding':'2%'})\n",
    "        \n",
    "    ], style={'backgroundColor':'#F2F2F2',\n",
    "              'marginLeft':'5%',\n",
    "              'marginRight':'5%',\n",
    "              'marginTop':'2%',\n",
    "              'marginBottom':'2%',\n",
    "              'textAlign':'center',})\n",
    "    \n",
    "    \n",
    "], style={'backgroundColor':'#F2F2F2', \n",
    "          'border-radius': '9px',\n",
    "          'margin':'2%'})"
   ]
  },
  {
   "cell_type": "code",
   "execution_count": null,
   "id": "bd26c3df",
   "metadata": {},
   "outputs": [],
   "source": [
    "@app.callback(\n",
    "    Output(component_id='plot-1', component_property='figure'),\n",
    "    Output(component_id='plot-2', component_property='figure'),\n",
    "    Input(component_id='attribute-dropdown', component_property='value')\n",
    ")\n",
    "\n",
    "def plottings(attribute):\n",
    "    \n",
    "    if attribute[0] == 'C' and attribute[-1] == 'n':\n",
    "        \n",
    "        data_churn = data['Churn'].value_counts().reset_index()\n",
    "        fig = go.Figure(data=[go.Pie(labels=data_churn['index'], values=data_churn['Churn'], pull=[ 0.025, 0], hole=.2)])\n",
    "        fig.update_layout(title_text=attribute+' Data Distribution Over The Dataset', width=500, height=500)\n",
    "        \n",
    "        fig_2 = px.histogram(data, x=attribute, color=attribute, width=500, height=500)\n",
    "        fig_2.update_layout(title_text=attribute+' Data Distribution', bargap=0.2)\n",
    "        \n",
    "        return fig, fig_2\n",
    "    \n",
    "    else:\n",
    "        churned_fig = px.histogram(data[data.loc[:,'Churn'] == 1], x=attribute, width=500, height=500)\n",
    "        churned_fig.update_layout(title_text=attribute+' On Churned Dataset', bargap=0.1)\n",
    "        \n",
    "        unchurned_fig = px.histogram(data[data.loc[:,'Churn'] == 0],x=attribute, width=500, height=500)\n",
    "        unchurned_fig.update_layout(title_text=attribute+' On UN-Churned Dataset', bargap=0.1)\n",
    "        \n",
    "        return churned_fig, unchurned_fig"
   ]
  },
  {
   "cell_type": "code",
   "execution_count": null,
   "id": "c0ed6c46",
   "metadata": {},
   "outputs": [],
   "source": [
    "# run the dashboard\n",
    "if __name__ == \"__main__\":\n",
    "    app.run_server(port=1234)"
   ]
  }
 ],
 "metadata": {
  "kernelspec": {
   "display_name": "Python 3 (ipykernel)",
   "language": "python",
   "name": "python3"
  },
  "language_info": {
   "codemirror_mode": {
    "name": "ipython",
    "version": 3
   },
   "file_extension": ".py",
   "mimetype": "text/x-python",
   "name": "python",
   "nbconvert_exporter": "python",
   "pygments_lexer": "ipython3",
   "version": "3.11.3"
  }
 },
 "nbformat": 4,
 "nbformat_minor": 5
}
